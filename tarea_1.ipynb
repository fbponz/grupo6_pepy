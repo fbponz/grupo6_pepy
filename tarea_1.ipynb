{
  "nbformat": 4,
  "nbformat_minor": 0,
  "metadata": {
    "colab": {
      "name": "tarea_1.ipynb",
      "provenance": [],
      "collapsed_sections": [],
      "include_colab_link": true
    },
    "kernelspec": {
      "name": "python3",
      "display_name": "Python 3"
    }
  },
  "cells": [
    {
      "cell_type": "markdown",
      "metadata": {
        "id": "view-in-github",
        "colab_type": "text"
      },
      "source": [
        "<a href=\"https://colab.research.google.com/github/fbponz/grupo6_pepy/blob/fbponz/tarea_1.ipynb\" target=\"_parent\"><img src=\"https://colab.research.google.com/assets/colab-badge.svg\" alt=\"Open In Colab\"/></a>"
      ]
    },
    {
      "cell_type": "markdown",
      "metadata": {
        "id": "qAQf4iqLaZB7"
      },
      "source": [
        "The database Retail Data Analytics contains historical data for 45 stores (and each of their departmente) located in different regions. \n",
        "There are three different files containing different information, that can be merged by the store ID (identification number of each retail store). \n",
        "1. Store: This file contains the following variables:\n",
        "\n",
        "- Store: Store identification number.\n",
        "- Type: A, B, o C.\n",
        "- Size: Expressed in square feet.\n",
        "\n",
        "2. Features: This file contains inforation related to the stores, the departments, and the regional activity.\n",
        "- Store: Store identification number.\n",
        "- Date: Week\n",
        "- Temperature: Average temperature in region.\n",
        "- Fuel_Price: Cost of fuel in the region\n",
        "- MarkDown1-5: Anonymized data related to promotional markdowns. MarkDown data is only available after Nov 2011, and is not available for all stores all the time. Any missing value is marked with an NA\n",
        "- CPI: Consumer price index\n",
        "- Unemployment rate: The unemployment rate\n",
        "- IsHoliday: This variable indicates whether the week is a special      holiday week.\n",
        "\n",
        "3. Sales: Historical sales data from 2010-02-05 to 2012-11-01:\n",
        "- Store: Store identification number.\n",
        "- Dept: Department identification number.\n",
        "- Date: Week\n",
        "- IsHoliday: This variable indicates whether the week is a special holiday week.\n",
        "\n",
        "This data is useful to predict department-wide sales in the coming years, and to analyse the impact of mardowns on holiday weekes. \n",
        "The analysis could help in providing recommendations based on data to increase sales and adapt the business model to changing environments.\n",
        "\n",
        "Below, we describe some of the variables (either nominal or cuantitative)."
      ]
    },
    {
      "cell_type": "code",
      "metadata": {
        "id": "HFS488VHgC1G"
      },
      "source": [
        "import os\n",
        "import pandas as pd\n",
        "import numpy as np\n",
        "import matplotlib.pyplot as plt"
      ],
      "execution_count": 5,
      "outputs": []
    },
    {
      "cell_type": "markdown",
      "metadata": {
        "id": "xLDS6X0zy98O"
      },
      "source": [
        "Import and QC:"
      ]
    },
    {
      "cell_type": "code",
      "metadata": {
        "id": "plqE8t7myE1p",
        "outputId": "ae8b4b87-1e8f-4829-842c-c5af35294628",
        "colab": {
          "base_uri": "https://localhost:8080/",
          "height": 204
        }
      },
      "source": [
        "#os.getcwd()\n",
        "#os.chdir()\n",
        "\n",
        "#In order for Colab to work, we have to import the CSVs every time\n",
        "#Load Retail csvs\n",
        "features = pd.read_csv(\"/content/features_dataset.csv\")\n",
        "sales = pd.read_csv(\"/content/sales_dataset.csv\")\n",
        "stores = pd.read_csv(\"/content/stores_dataset.csv\")\n",
        "\n",
        "\n",
        "#QC\n",
        "features.shape\n",
        "features.head()\n",
        "features.tail()\n",
        "\n",
        "sales.shape\n",
        "sales.head()\n",
        "sales.tail()\n",
        "\n",
        "stores.shape\n",
        "stores.head()\n",
        "stores.tail()\n",
        "#QC OK"
      ],
      "execution_count": 6,
      "outputs": [
        {
          "output_type": "execute_result",
          "data": {
            "text/html": [
              "<div>\n",
              "<style scoped>\n",
              "    .dataframe tbody tr th:only-of-type {\n",
              "        vertical-align: middle;\n",
              "    }\n",
              "\n",
              "    .dataframe tbody tr th {\n",
              "        vertical-align: top;\n",
              "    }\n",
              "\n",
              "    .dataframe thead th {\n",
              "        text-align: right;\n",
              "    }\n",
              "</style>\n",
              "<table border=\"1\" class=\"dataframe\">\n",
              "  <thead>\n",
              "    <tr style=\"text-align: right;\">\n",
              "      <th></th>\n",
              "      <th>Store</th>\n",
              "      <th>Type</th>\n",
              "      <th>Size</th>\n",
              "    </tr>\n",
              "  </thead>\n",
              "  <tbody>\n",
              "    <tr>\n",
              "      <th>40</th>\n",
              "      <td>41</td>\n",
              "      <td>A</td>\n",
              "      <td>196321</td>\n",
              "    </tr>\n",
              "    <tr>\n",
              "      <th>41</th>\n",
              "      <td>42</td>\n",
              "      <td>C</td>\n",
              "      <td>39690</td>\n",
              "    </tr>\n",
              "    <tr>\n",
              "      <th>42</th>\n",
              "      <td>43</td>\n",
              "      <td>C</td>\n",
              "      <td>41062</td>\n",
              "    </tr>\n",
              "    <tr>\n",
              "      <th>43</th>\n",
              "      <td>44</td>\n",
              "      <td>C</td>\n",
              "      <td>39910</td>\n",
              "    </tr>\n",
              "    <tr>\n",
              "      <th>44</th>\n",
              "      <td>45</td>\n",
              "      <td>B</td>\n",
              "      <td>118221</td>\n",
              "    </tr>\n",
              "  </tbody>\n",
              "</table>\n",
              "</div>"
            ],
            "text/plain": [
              "    Store Type    Size\n",
              "40     41    A  196321\n",
              "41     42    C   39690\n",
              "42     43    C   41062\n",
              "43     44    C   39910\n",
              "44     45    B  118221"
            ]
          },
          "metadata": {
            "tags": []
          },
          "execution_count": 6
        }
      ]
    },
    {
      "cell_type": "markdown",
      "metadata": {
        "id": "d01DyBrFy5cO"
      },
      "source": [
        "Pablo's Variables:"
      ]
    },
    {
      "cell_type": "code",
      "metadata": {
        "id": "D5v9x_3py0LR",
        "outputId": "f7e7051c-1ad4-4120-e1a1-ff72d911e01b",
        "colab": {
          "base_uri": "https://localhost:8080/",
          "height": 722
        }
      },
      "source": [
        "#####STATISTICS\n",
        "#Quantitative variable Fuel_Price\n",
        "features.Fuel_Price.describe() \n",
        "fuel_price_stats = features.Fuel_Price.describe()\n",
        "\n",
        "m = fuel_price_stats[1]\n",
        "s = fuel_price_stats[2]\n",
        "n = fuel_price_stats[0]\n",
        "x = features[\"Fuel_Price\"]\n",
        "\n",
        "plt.hist(x, edgecolor=\"black\", color=\"#d0efff\")\n",
        "ticks = np.arange(0,6,0.5)\n",
        "plt.xticks(ticks)\n",
        "plt.xlabel(\"Fuel price in dollars ($)\")\n",
        "plt.ylabel(\"Amount of days\")\n",
        "plt.title(\"Fig.1: Fuel price by amount of days\" \"\\n\" \"2010-2012\")\n",
        "textstr = \"Mean = 3.41\\nS.D. = 0.43\\nn = 8190\" #texto a imprimir\n",
        "props = dict(boxstyle=\"round\", facecolor=\"white\", lw=0.5) #Creamos un recuadro\n",
        "plt.text(4.25, 1500, textstr, bbox=props) #texto en esa posicion\n",
        "plt.axvline(x=m, linewidth=1, linestyle=\"solid\", color=\"red\", label=\"Mean\")\n",
        "plt.axvline(x=m-s, linewidth=1, linestyle=\"solid\", color=\"green\", label=\"S.D.\" )\n",
        "plt.axvline(x=m+s, linewidth=1, linestyle=\"solid\", color=\"green\", label=\"-S.D.\" )\n",
        "plt.show()\n",
        "\n",
        "print(\"\"\"As expected, the fluctuation of fuel prices is not considerably large. \n",
        "The mean lies at 3.41$ and the standard deviation is 0.43. Nevertheless, \n",
        "the most frequent price was around 3.65$.\"\"\")\n",
        "print()#Blank line\n",
        "\n",
        "#Nominal variable isHoliday\n",
        "features.IsHoliday.describe()\n",
        "IsHoliday_stats = features.IsHoliday.describe() \n",
        "y = features[\"IsHoliday\"]\n",
        "holiday_freq = features.groupby([\"IsHoliday\"]).size()\n",
        "holiday_freq.sum()\n",
        "n = holiday_freq.sum()\n",
        "holiday_freq2 = (holiday_freq/n)*100\n",
        "\n",
        "bar_list = [\"Working\", \"Holiday\"]\n",
        "bar_chart = plt.bar(bar_list,holiday_freq2)\n",
        "bar_chart[0].set_color(\"#1167b1\")\n",
        "bar_chart[1].set_color(\"#8abaae\")\n",
        "plt.xlabel(\"Type of day\")\n",
        "plt.ylabel(\"Percentage\")\n",
        "plt.title(\"Fig.2: Percentage of working days and holidays\" \"\\n\" \"from 2010 to 2013\")\n",
        "plt.show()\n",
        "\n",
        "print(\"\"\"Only over 7% of the days are holidays. Nonetheless, the dataset starts \n",
        "in February and ends in July. Therefore, such number does not fully reflect the \n",
        "absolute amount of holidays in a year.\"\"\")"
      ],
      "execution_count": null,
      "outputs": [
        {
          "output_type": "display_data",
          "data": {
            "image/png": "[encoded data removed]",
            "text/plain": [
              "<Figure size 432x288 with 1 Axes>"
            ]
          },
          "metadata": {
            "tags": [],
            "needs_background": "light"
          }
        },
        {
          "output_type": "stream",
          "text": [
            "As expected, the fluctuation of fuel prices is not considerably large. \n",
            "The mean lies at 3.41$ and the standard deviation is 0.43. Nevertheless, \n",
            "the most frequent price was around 3.65$.\n",
            "\n"
          ],
          "name": "stdout"
        },
        {
          "output_type": "display_data",
          "data": {
            "image/png": "[encoded data removed]",
            "text/plain": [
              "<Figure size 432x288 with 1 Axes>"
            ]
          },
          "metadata": {
            "tags": [],
            "needs_background": "light"
          }
        },
        {
          "output_type": "stream",
          "text": [
            "Only over 7% of the days are holidays. Nonetheless, the dataset starts \n",
            "in February and ends in July. Therefore, such number does not fully reflect the \n",
            "absolute amount of holidays in a year.\n"
          ],
          "name": "stdout"
        }
      ]
    },
    {
      "cell_type": "markdown",
      "metadata": {
        "id": "qwv56_QTgz6y"
      },
      "source": [
        "*Inés*: Dataset Stores. Description of Type (nominal) and Size (cuantitative)"
      ]
    },
    {
      "cell_type": "markdown",
      "metadata": {
        "id": "bm3h4DAOi9qx"
      },
      "source": [
        "Type (Nominal)"
      ]
    },
    {
      "cell_type": "code",
      "metadata": {
        "id": "LXdUsuIOg9IP",
        "outputId": "1fb1bb13-09dc-45eb-f0de-9c9a56a9a13c",
        "colab": {
          "base_uri": "https://localhost:8080/",
          "height": 465
        }
      },
      "source": [
        "# Frequencies\n",
        "\n",
        "mytable = stores.groupby(['Type']).size()\n",
        "print(mytable)\n",
        "\n",
        "## Percentage\n",
        "\n",
        "mytable.sum()\n",
        "n=mytable.sum()\n",
        "\n",
        "mytable2= (mytable/n)*100\n",
        "print(mytable2)\n",
        "\n",
        "mytable3 = round(mytable2,1)\n",
        "mytable3\n",
        "\n",
        "## Bar chart\n",
        "\n",
        "bar_list = ['A', 'B', 'C']\n",
        "plt.bar(bar_list, mytable2, color='lightsteelblue')\n",
        "plt.ylabel('Percentage')\n",
        "plt.xlabel('Type of shop')\n",
        "plt.title('Figure 1. Percentage distribution of type of shops')\n",
        "plt.show()\n",
        "\n",
        "# We observe that almost 50% are Type A stores, whereas we only 20% of the stores are classified as Type B. "
      ],
      "execution_count": null,
      "outputs": [
        {
          "output_type": "stream",
          "text": [
            "Type\n",
            "A    22\n",
            "B    17\n",
            "C     6\n",
            "dtype: int64\n",
            "Type\n",
            "A    48.888889\n",
            "B    37.777778\n",
            "C    13.333333\n",
            "dtype: float64\n"
          ],
          "name": "stdout"
        },
        {
          "output_type": "display_data",
          "data": {
            "image/png": "[encoded data removed]",
            "text/plain": [
              "<Figure size 432x288 with 1 Axes>"
            ]
          },
          "metadata": {
            "tags": [],
            "needs_background": "light"
          }
        }
      ]
    },
    {
      "cell_type": "markdown",
      "metadata": {
        "id": "W6bYgOD2jA6Z"
      },
      "source": [
        "Size (Cuantitative)"
      ]
    },
    {
      "cell_type": "code",
      "metadata": {
        "id": "bZZDnBuSi7ot",
        "outputId": "a7ffb967-abcb-4d6f-9064-38c5ca31642d",
        "colab": {
          "base_uri": "https://localhost:8080/",
          "height": 463
        }
      },
      "source": [
        "res= stores.Size.describe()\n",
        "print(res)\n",
        "\n",
        "m=round(res[1],1)\n",
        "sd=round(res[2],1)\n",
        "n=res[0]\n",
        "\n",
        "\n",
        "x=stores.Size\n",
        "\n",
        "ticks=np.arange(0,280000,40000)\n",
        "props=dict(boxstyle='round', facecolor= 'white', lw=0.5)\n",
        "textstr='$\\mathrm{n}=%.0f$'%(n)\n",
        "\n",
        "\n",
        "plt.hist(x, edgecolor='grey', color='lightsteelblue', bins=8)\n",
        "plt.xticks(ticks)\n",
        "plt.title('Figure 2. Store size''\\n' '           Square feet')\n",
        "plt.ylabel('Frequency')\n",
        "plt.xlabel('Store size')\n",
        "plt.text (10000,12, textstr, fontsize=8, bbox=props)\n",
        "plt.axvline(x=m, linewidth=0.8, linestyle= 'solid', color=\"indianred\", label='Mean')\n",
        "plt.axvline(x=m-sd, linewidth=0.8, linestyle= 'dashed', color=\"darkseagreen\", label='-1 SD')\n",
        "plt.axvline(x=m+sd, linewidth=0.8, linestyle= 'dashed', color=\"darkseagreen\", label='+1 SD')\n",
        "plt.legend(loc='best', bbox_to_anchor=(0.79,0.95), fontsize=8)\n",
        "plt.show()\n",
        "\n",
        "## We observe that average size equals 130287.6, and standard deviation equals almost 64.00, a pretty high value. Moreover, the graph indicates that the size of the majority of the stores is close to the minimum and maximum values."
      ],
      "execution_count": null,
      "outputs": [
        {
          "output_type": "stream",
          "text": [
            "count        45.000000\n",
            "mean     130287.600000\n",
            "std       63825.271991\n",
            "min       34875.000000\n",
            "25%       70713.000000\n",
            "50%      126512.000000\n",
            "75%      202307.000000\n",
            "max      219622.000000\n",
            "Name: Size, dtype: float64\n"
          ],
          "name": "stdout"
        },
        {
          "output_type": "display_data",
          "data": {
            "image/png": "[encoded data removed]",
            "text/plain": [
              "<Figure size 432x288 with 1 Axes>"
            ]
          },
          "metadata": {
            "tags": [],
            "needs_background": "light"
          }
        }
      ]
    },
    {
      "cell_type": "markdown",
      "metadata": {
        "id": "58qw8AN9LD2C"
      },
      "source": [
        "Borja: Datasets stores\n",
        "Cuantitative Weekly Sales"
      ]
    },
    {
      "cell_type": "code",
      "metadata": {
        "id": "zdcZG7OYMJV_",
        "outputId": "8b99474c-298b-4d2e-e326-99b63c5d4b50",
        "colab": {
          "base_uri": "https://localhost:8080/",
          "height": 310
        }
      },
      "source": [
        "store_1_dept_1 = sales[((sales[\"Store\"] == 1)&(sales[\"Dept\"] == 1))]\n",
        "week_sales_store_1 = store_1_dept_1[\"Weekly_Sales\"]\n",
        "\n",
        "\n",
        "week_sales_description = store_1_dept_1.Weekly_Sales.describe()\n",
        "\n",
        "ticks = np.arange(week_sales_description[\"min\"]-537,week_sales_description[\"max\"]+7,((week_sales_description[\"max\"]-week_sales_description[\"min\"])/5))\n",
        "\n",
        "mean_wsd = week_sales_description[\"mean\"]\n",
        "std_wsd = week_sales_description[\"std\"]\n",
        "number_wsd = week_sales_description[\"count\"]\n",
        "\n",
        "box_string = '$\\mathrm{Mean}=%.1f$\\n$\\mathrm{S.D.}=%.1f$\\n$\\mathrm{n}=%.0f$'%(mean_wsd, std_wsd, number_wsd)\n",
        "props = dict(boxstyle='round', facecolor='white', lw=0.5)\n",
        "\n",
        "plt.hist(week_sales_store_1, edgecolor=\"black\", color=\"green\")\n",
        "\n",
        "plt.xticks(ticks)\n",
        "plt.xlabel(\"Weekly sales represented in dollars ($)\")\n",
        "plt.ylabel(\"Number of weeks\")\n",
        "plt.title(\"Fig.1: Total volume weekly sales (dept1)store 1\" \"\\n\" \"2010-2012\")\n",
        "plt.text(47200, 45, box_string, bbox=props) \n",
        "plt.axvline(x=mean_wsd, linewidth=1, linestyle=\"solid\", color=\"red\", label=\"Mean\")\n",
        "plt.axvline(x=mean_wsd+std_wsd, linewidth=1, linestyle=\"dashed\", color=\"blue\", label=\"Mean + S.D\")\n",
        "plt.legend()\n",
        "plt.show()"
      ],
      "execution_count": 10,
      "outputs": [
        {
          "output_type": "display_data",
          "data": {
            "image/png": "[encoded data removed]",
            "text/plain": [
              "<Figure size 432x288 with 1 Axes>"
            ]
          },
          "metadata": {
            "tags": [],
            "needs_background": "light"
          }
        }
      ]
    },
    {
      "cell_type": "markdown",
      "metadata": {
        "id": "7M1j6UWmM4AQ"
      },
      "source": [
        "Nominal variable: Store Weekly sales"
      ]
    },
    {
      "cell_type": "code",
      "metadata": {
        "id": "yLosPQHCM_pb",
        "outputId": "8e174364-59ed-402d-8ef3-4a9f4dc7614b",
        "colab": {
          "base_uri": "https://localhost:8080/",
          "height": 295
        }
      },
      "source": [
        "store_1 = sales[sales[\"Store\"] == 1]\n",
        "\n",
        "total_sales = sales[\"Weekly_Sales\"].sum()\n",
        "num_total_dept = sales.Dept.unique()\n",
        "\n",
        "total_dept_sales = []\n",
        "bar_list = []\n",
        "for handler in num_total_dept:\n",
        "    temp = store_1.loc[store_1['Dept']==handler,'Weekly_Sales'].sum()\n",
        "    if (0.1< ((temp/total_sales)*100)):\n",
        "        total_dept_sales.append(temp)\n",
        "        bar_list.append('Dpt'+str(handler))\n",
        "\n",
        "mytable2 = (total_dept_sales/total_sales)*100\n",
        "\n",
        "plt.bar(bar_list,mytable2)\n",
        "plt.xlabel(\"Departament name\")\n",
        "plt.ylabel(\"Percentage of total sales\")\n",
        "plt.title(\"Fig.2: Deparments with sales percentage above 10% total sales\")\n",
        "plt.show()"
      ],
      "execution_count": 9,
      "outputs": [
        {
          "output_type": "display_data",
          "data": {
            "image/png": "[encoded data removed]",
            "text/plain": [
              "<Figure size 432x288 with 1 Axes>"
            ]
          },
          "metadata": {
            "tags": [],
            "needs_background": "light"
          }
        }
      ]
    }
  ]
}